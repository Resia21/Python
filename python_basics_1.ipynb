{
 "cells": [
  {
   "cell_type": "code",
   "execution_count": 15,
   "id": "8136a0d3-9c48-4030-982b-7341b108378e",
   "metadata": {},
   "outputs": [
    {
     "name": "stdin",
     "output_type": "stream",
     "text": [
      "enter the 1st number: 5\n",
      "enter the 2nd number: 7\n",
      "enter the 3rd number: 3\n"
     ]
    },
    {
     "name": "stdout",
     "output_type": "stream",
     "text": [
      "b is largest\n"
     ]
    }
   ],
   "source": [
    "a=int(input(\"enter the 1st number:\"))\n",
    "b=int(input(\"enter the 2nd number:\"))\n",
    "c=int(input(\"enter the 3rd number:\"))\n",
    "if a>b and a>c:\n",
    "    print(\"a is largest\")\n",
    "elif b>c and b>c:\n",
    "    print(\"b is largest\")\n",
    "else:\n",
    "    print(\"c is largest\")"
   ]
  },
  {
   "cell_type": "code",
   "execution_count": 43,
   "id": "814b5c50-2462-4602-a4b8-43580dd28529",
   "metadata": {},
   "outputs": [
    {
     "name": "stdin",
     "output_type": "stream",
     "text": [
      "enter the number: 5\n"
     ]
    },
    {
     "name": "stdout",
     "output_type": "stream",
     "text": [
      "120\n"
     ]
    }
   ],
   "source": [
    "a=int(input(\"enter the number:\"))\n",
    "if a!=0:\n",
    "    b=1\n",
    "    for i in range(1,a+1):\n",
    "        b*=i\n",
    "    print(b)\n",
    "else:\n",
    "    print (\"invalid number\")"
   ]
  },
  {
   "cell_type": "code",
   "execution_count": 65,
   "id": "74ed6f09-dcf4-4f28-a68e-37ff9d865267",
   "metadata": {},
   "outputs": [
    {
     "name": "stdin",
     "output_type": "stream",
     "text": [
      "enter your name: resia\n"
     ]
    },
    {
     "name": "stdout",
     "output_type": "stream",
     "text": [
      "esi\n"
     ]
    }
   ],
   "source": [
    "a=input(\"enter your name:\")\n",
    "print(a[1:4])"
   ]
  },
  {
   "cell_type": "code",
   "execution_count": 95,
   "id": "c1c6613c-c0d2-45d3-849a-f721d8e91960",
   "metadata": {},
   "outputs": [
    {
     "name": "stdout",
     "output_type": "stream",
     "text": [
      "Number 1 appears 2 times in the list.\n",
      "Number 2 appears 3 times in the list.\n",
      "Number 3 appears 2 times in the list.\n",
      "Number 4 appears 2 times in the list.\n",
      "Number 5 appears 1 times in the list.\n"
     ]
    }
   ],
   "source": [
    "i = [1, 2, 3, 2, 1, 3, 2, 4, 5, 4]\n",
    "counts = {}\n",
    "for n in i:\n",
    "    if n in counts:\n",
    "        counts[n] += 1\n",
    "    else:\n",
    "        counts[n] = 1\n",
    "for n,count in counts.items():\n",
    "    print(f\"Number {n} appears {count} times in the list.\")"
   ]
  },
  {
   "cell_type": "code",
   "execution_count": 83,
   "id": "0dc27999-6b29-4472-8f83-20541cd903e4",
   "metadata": {},
   "outputs": [
    {
     "name": "stdin",
     "output_type": "stream",
     "text": [
      "enter the number: 3\n"
     ]
    },
    {
     "name": "stdout",
     "output_type": "stream",
     "text": [
      "3\n"
     ]
    }
   ],
   "source": []
  },
  {
   "cell_type": "code",
   "execution_count": 89,
   "id": "8a22ce04-b343-4c34-b1b8-31fb70d4c61f",
   "metadata": {},
   "outputs": [
    {
     "name": "stdin",
     "output_type": "stream",
     "text": [
      "enter the total number to perform the task  10\n",
      "enter the 1st number: 0\n"
     ]
    },
    {
     "name": "stdout",
     "output_type": "stream",
     "text": [
      "0\n"
     ]
    },
    {
     "name": "stdin",
     "output_type": "stream",
     "text": [
      "enter the 2nd number: 1\n"
     ]
    },
    {
     "name": "stdout",
     "output_type": "stream",
     "text": [
      "1\n",
      "1\n",
      "2\n",
      "3\n",
      "5\n",
      "8\n",
      "13\n",
      "21\n",
      "34\n"
     ]
    }
   ],
   "source": [
    "total=int(input(\"enter the total number to perform the task \"))\n",
    "n1=int(input(\"enter the 1st number:\"))\n",
    "print(n1)\n",
    "n2=int(input(\"enter the 2nd number:\"))\n",
    "print(n2)\n",
    "count=2\n",
    "while(count<total):\n",
    "    n3=n1+n2\n",
    "    print(n3)\n",
    "    \n",
    "    n1=n2\n",
    "    n2=n3\n",
    "    count=count+1\n",
    "    "
   ]
  },
  {
   "cell_type": "code",
   "execution_count": null,
   "id": "fc64edb2-bea6-483f-81e9-f3fd8817de61",
   "metadata": {},
   "outputs": [],
   "source": []
  }
 ],
 "metadata": {
  "kernelspec": {
   "display_name": "Python 3 (ipykernel)",
   "language": "python",
   "name": "python3"
  },
  "language_info": {
   "codemirror_mode": {
    "name": "ipython",
    "version": 3
   },
   "file_extension": ".py",
   "mimetype": "text/x-python",
   "name": "python",
   "nbconvert_exporter": "python",
   "pygments_lexer": "ipython3",
   "version": "3.12.2"
  }
 },
 "nbformat": 4,
 "nbformat_minor": 5
}
